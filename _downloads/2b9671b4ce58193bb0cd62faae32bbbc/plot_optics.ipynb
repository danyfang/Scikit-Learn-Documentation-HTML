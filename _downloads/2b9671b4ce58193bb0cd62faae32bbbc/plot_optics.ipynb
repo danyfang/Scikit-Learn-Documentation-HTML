{
  "cells": [
    {
      "cell_type": "code",
      "execution_count": null,
      "metadata": {
        "collapsed": false
      },
      "outputs": [],
      "source": [
        "%matplotlib inline"
      ]
    },
    {
      "cell_type": "markdown",
      "metadata": {},
      "source": [
        "\n# Demo of OPTICS clustering algorithm\n\n\nFinds core samples of high density and expands clusters from them.\nThis example uses data that is generated so that the clusters have\ndifferent densities.\n\nThe clustering is first used in its automatic settings, which is the\n:class:`sklearn.cluster.OPTICS` algorithm, and then setting specific\nthresholds on the reachability, which corresponds to DBSCAN.\n\nWe can see that the different clusters of OPTICS can be recovered with\ndifferent choices of thresholds in DBSCAN.\n\n\n"
      ]
    },
    {
      "cell_type": "code",
      "execution_count": null,
      "metadata": {
        "collapsed": false
      },
      "outputs": [],
      "source": [
        "# Authors: Shane Grigsby <refuge@rocktalus.com>\n#          Amy X. Zhang <axz@mit.edu>\n# License: BSD 3 clause\n\n\nfrom sklearn.cluster import OPTICS\nimport matplotlib.gridspec as gridspec\n\n\nimport numpy as np\n\nimport matplotlib.pyplot as plt\n\n# Generate sample data\n\nnp.random.seed(0)\nn_points_per_cluster = 250\n\nC1 = [-5, -2] + .8 * np.random.randn(n_points_per_cluster, 2)\nC2 = [4, -1] + .1 * np.random.randn(n_points_per_cluster, 2)\nC3 = [1, -2] + .2 * np.random.randn(n_points_per_cluster, 2)\nC4 = [-2, 3] + .3 * np.random.randn(n_points_per_cluster, 2)\nC5 = [3, -2] + 1.6 * np.random.randn(n_points_per_cluster, 2)\nC6 = [5, 6] + 2 * np.random.randn(n_points_per_cluster, 2)\nX = np.vstack((C1, C2, C3, C4, C5, C6))\n\nclust = OPTICS(min_samples=9, rejection_ratio=0.5)\n\n# Run the fit\nclust.fit(X)\n\n_, labels_025 = clust.extract_dbscan(0.25)\n_, labels_075 = clust.extract_dbscan(0.75)\n\nspace = np.arange(len(X))\nreachability = clust.reachability_[clust.ordering_]\nlabels = clust.labels_[clust.ordering_]\n\nplt.figure(figsize=(10, 7))\nG = gridspec.GridSpec(2, 3)\nax1 = plt.subplot(G[0, :])\nax2 = plt.subplot(G[1, 0])\nax3 = plt.subplot(G[1, 1])\nax4 = plt.subplot(G[1, 2])\n\n# Reachability plot\ncolor = ['g.', 'r.', 'b.', 'y.', 'c.']\nfor k, c in zip(range(0, 5), color):\n    Xk = space[labels == k]\n    Rk = reachability[labels == k]\n    ax1.plot(Xk, Rk, c, alpha=0.3)\nax1.plot(space[labels == -1], reachability[labels == -1], 'k.', alpha=0.3)\nax1.plot(space, np.full_like(space, 0.75, dtype=float), 'k-', alpha=0.5)\nax1.plot(space, np.full_like(space, 0.25, dtype=float), 'k-.', alpha=0.5)\nax1.set_ylabel('Reachability (epsilon distance)')\nax1.set_title('Reachability Plot')\n\n# OPTICS\ncolor = ['g.', 'r.', 'b.', 'y.', 'c.']\nfor k, c in zip(range(0, 5), color):\n    Xk = X[clust.labels_ == k]\n    ax2.plot(Xk[:, 0], Xk[:, 1], c, alpha=0.3)\nax2.plot(X[clust.labels_ == -1, 0], X[clust.labels_ == -1, 1], 'k+', alpha=0.1)\nax2.set_title('Automatic Clustering\\nOPTICS')\n\n# DBSCAN at 0.25\ncolor = ['g', 'greenyellow', 'olive', 'r', 'b', 'c']\nfor k, c in zip(range(0, 6), color):\n    Xk = X[labels_025 == k]\n    ax3.plot(Xk[:, 0], Xk[:, 1], c, alpha=0.3, marker='.')\nax3.plot(X[labels_025 == -1, 0], X[labels_025 == -1, 1], 'k+', alpha=0.1)\nax3.set_title('Clustering at 0.25 epsilon cut\\nDBSCAN')\n\n# DBSCAN at 0.75\ncolor = ['g.', 'm.', 'y.', 'c.']\nfor k, c in zip(range(0, 4), color):\n    Xk = X[labels_075 == k]\n    ax4.plot(Xk[:, 0], Xk[:, 1], c, alpha=0.3)\nax4.plot(X[labels_075 == -1, 0], X[labels_075 == -1, 1], 'k+', alpha=0.1)\nax4.set_title('Clustering at 0.75 epsilon cut\\nDBSCAN')\n\nplt.tight_layout()\nplt.show()"
      ]
    }
  ],
  "metadata": {
    "kernelspec": {
      "display_name": "Python 3",
      "language": "python",
      "name": "python3"
    },
    "language_info": {
      "codemirror_mode": {
        "name": "ipython",
        "version": 3
      },
      "file_extension": ".py",
      "mimetype": "text/x-python",
      "name": "python",
      "nbconvert_exporter": "python",
      "pygments_lexer": "ipython3",
      "version": "3.7.0"
    }
  },
  "nbformat": 4,
  "nbformat_minor": 0
}